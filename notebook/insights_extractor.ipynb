{
 "cells": [
  {
   "cell_type": "code",
   "execution_count": 1,
   "metadata": {},
   "outputs": [],
   "source": [
    "import pandas as pd\n",
    "import matplotlib.pyplot as plt\n",
    "import seaborn as sns"
   ]
  },
  {
   "cell_type": "code",
   "execution_count": 2,
   "metadata": {},
   "outputs": [],
   "source": [
    "df = pd.read_csv('data/cleaned.csv')"
   ]
  },
  {
   "cell_type": "code",
   "execution_count": 3,
   "metadata": {},
   "outputs": [],
   "source": [
    "df = df.drop('Unnamed: 0', axis=1)"
   ]
  },
  {
   "cell_type": "code",
   "execution_count": 4,
   "metadata": {},
   "outputs": [],
   "source": [
    "df['Total_alc'] = list(map(lambda x: int(x), ((df['Total_alc'] ** 0.5).values)))"
   ]
  },
  {
   "cell_type": "code",
   "execution_count": 106,
   "metadata": {},
   "outputs": [
    {
     "data": {
      "image/png": "[encoded data removed]",
      "text/plain": [
       "<Figure size 1000x500 with 2 Axes>"
      ]
     },
     "metadata": {},
     "output_type": "display_data"
    }
   ],
   "source": [
    "from sklearn.metrics import r2_score\n",
    "import numpy as np\n",
    "import matplotlib as mpl\n",
    "\n",
    "class InsightExtractor():\n",
    "\tdef __init__(self, data):\n",
    "\t\tself.data = data\n",
    "\t\tself.cols = ['failures', 'health', 'studytime', 'higher', 'goout', 'traveltime', 'activities', 'Total_alc']\n",
    "\t\tself.mins = {}\n",
    "\t\tself.grouped = {}\n",
    "\t\tself.maxs = {}\n",
    "\t\tfor col in self.cols:\n",
    "\t\t\tself.grouped[col] = self.data[[col, 'GPA']].groupby(by=col).mean('GPA')\n",
    "\t\t\tself.mins[col] = self.grouped[col].min().values[0] * 0.95\n",
    "\t\t\tself.maxs[col] = self.grouped[col].max().values[0] * 1.05\n",
    "\n",
    "\t\tself.xticklabels = {\n",
    "\t\t\t'failures': [0, 1, '2', '3+'],\n",
    "\t\t\t'health': ['very bad', 'bad', 'ok', 'good', 'very good'],\n",
    "\t\t\t'studytime': ['1-2 hrs', '2-5 hrs', '5-10 hrs', '10+ hrs'],\n",
    "\t\t\t'higher': None,\n",
    "\t\t\t'goout': ['very little', 'little', 'normal', 'quite a bit', 'a lot'],\n",
    "\t\t\t'traveltime': ['<15 min', '15-30 min', '30min-1hr', '1+ hr'],\n",
    "\t\t\t'activities': None,\n",
    "\t\t\t'Total_alc': ['very little', 'little', 'normal', 'quite a bit', 'a lot']\n",
    "\t\t}\n",
    "\n",
    "\t\tself.xlabel = {\n",
    "\t\t\t'failures': 'Number of failures',\n",
    "\t\t\t'health': 'Health Status',\n",
    "\t\t\t'studytime': 'Studytime per week',\n",
    "\t\t\t'higher': 'Want to go to university?',\n",
    "\t\t\t'goout': 'How often do you go out?',\n",
    "\t\t\t'traveltime': 'Travel time to school',\n",
    "\t\t\t'activities': 'Extra-curricular activities?',\n",
    "\t\t\t'Total_alc': 'Drink a lot of alcohol?'\n",
    "\t\t}\n",
    "\n",
    "\t\tself.insights = {\n",
    "\t\t\t'failures': ['lower failures.', 'students with lower number of failures score higher.'],\n",
    "\t\t\t'health': ['maintain health.', 'students health stats has an effect on performance.'],\n",
    "\t\t\t'studytime': ['extra studying.', 'students that spend more time studying perform better.'],\n",
    "\t\t\t'higher': ['dream big.', 'students that aim for university attain better results.'],\n",
    "\t\t\t'goout': ['healthy breaks.', 'students that go out for a moderate and healthy amount have better performance.'],\n",
    "\t\t\t'traveltime': ['decrease travel time.', 'students that spend less time traveling score well.'],\n",
    "\t\t\t'activities': ['more extra-curriculars.', 'students that participate in curricular activities do better.'],\n",
    "\t\t\t'Total_alc': ['less drinking.', 'students that drink less have better scores.']\n",
    "\t\t}\n",
    "\n",
    "\tdef produce_graph(self, col, chosen, color = '#888', resultid = None):\n",
    "\t\tCOLOR = '#555'\n",
    "\n",
    "\t\tmpl.rcParams['text.color'] = COLOR\n",
    "\t\tmpl.rcParams['axes.labelcolor'] = COLOR\n",
    "\t\tmpl.rcParams['xtick.color'] = COLOR\n",
    "\t\tmpl.rcParams['ytick.color'] = COLOR\n",
    "\n",
    "\t\tfig = plt.figure(figsize=(10, 5))\n",
    "\t\tsubplots = fig.subplots(2, 1, gridspec_kw = {'height_ratios':[1,7]})\n",
    "\t\tax = subplots[1]\n",
    "\t\tsubplots[0].axis('off')\n",
    "\t\tsns.barplot(self.data, x=col, y='GPA', ax = ax)\n",
    "\n",
    "\t\tax.set_facecolor('#EAE4D6')\n",
    "\t\tfig.patch.set_facecolor('#EAE4D6')\n",
    "\t\tax.grid(False)\n",
    "\t\tmax_height = 0\n",
    "\t\tmin_height = 1e9\n",
    "\t\tfor i, patch in enumerate(ax.patches):\n",
    "\t\t\tticks = list(map(lambda x: x.get_text(), ax.get_xticklabels()))\n",
    "\t\t\tif i == ticks.index(str(chosen)):\n",
    "\t\t\t\tpatch.set_color(color)\n",
    "\t\t\telse:\n",
    "\t\t\t\tpatch.set_color('#D9D9D9')\n",
    "\n",
    "\t\t\tmax_height = max(max_height, patch.get_height())\n",
    "\t\t\tmin_height = min(min_height, patch.get_height())\n",
    "\n",
    "\t\tdiff = abs(max_height - min_height) * 2\n",
    "\t\tax.set_ylim(min_height - diff, max_height + diff * 0.25)\n",
    "\n",
    "\t\tfor i, line in enumerate(ax.lines):\n",
    "\t\t\tline.set_visible(False)\n",
    "\n",
    "\t\tax.spines['top'].set_visible(False)\n",
    "\t\tax.spines['right'].set_visible(False)\n",
    "\t\tax.spines['left'].set_color('#B7B7B7')\n",
    "\t\tax.spines['bottom'].set_color('#B7B7B7')\n",
    "\n",
    "\t\tax.spines['left'].set(linewidth = 3.5)\n",
    "\t\tax.spines['bottom'].set(linewidth = 3.5)\n",
    "\n",
    "\t\tif self.xticklabels[col]:\n",
    "\t\t\tax.set_xticklabels(self.xticklabels[col])\n",
    "\t\t\n",
    "\t\tax.set_xlabel(self.xlabel[col])\n",
    "\t\treturn fig\n",
    "\n",
    "\tdef extract(self, X):\n",
    "\t\tgood_col = None\n",
    "\t\tgood_score = -10\n",
    "\t\timprove_col = None\n",
    "\t\timprove_score = -10\n",
    "\t\tfor col in self.cols:\n",
    "\t\t\tkey = X[col].item()\n",
    "\t\t\tif type(key) == str and key.isnumeric():\n",
    "\t\t\t\tkey = int(key)\n",
    "\t\t\tcurrent = self.grouped[col].loc[key].item()\n",
    "\t\t\tpotential_improve = abs(self.maxs[col] - current)\n",
    "\t\t\tpotential_good = abs(self.mins[col] - current)\n",
    "\n",
    "\t\t\tif improve_score < potential_improve:\n",
    "\t\t\t\timprove_score = potential_improve\n",
    "\t\t\t\timprove_col = col\n",
    "\n",
    "\t\t\tif good_score < potential_good:\n",
    "\t\t\t\tgood_score = potential_good\n",
    "\t\t\t\tgood_col = col\n",
    "\n",
    "\t\tgood_fig = self.produce_graph(good_col, X[good_col].item(), color = '#8A8')\n",
    "\t\tplt.close()\n",
    "\t\timprove_fig = self.produce_graph(improve_col, X[improve_col].item(), color = '#A88')\n",
    "\t\tplt.close()\n",
    "\t\treturn self.insights[good_col], good_fig, self.insights[improve_col], improve_fig\n",
    "\n",
    "\tdef history(self, history_df):\n",
    "\t\tCOLOR = '#555'\n",
    "\n",
    "\t\tmpl.rcParams['text.color'] = COLOR\n",
    "\t\tmpl.rcParams['axes.labelcolor'] = COLOR\n",
    "\t\tmpl.rcParams['xtick.color'] = COLOR\n",
    "\t\tmpl.rcParams['ytick.color'] = COLOR\n",
    "\n",
    "\t\tfig = plt.figure(figsize=(10, 5))\n",
    "\t\tsubplots = fig.subplots(2, 1, gridspec_kw = {'height_ratios':[1,7]})\n",
    "\t\tax = subplots[1]\n",
    "\t\tsubplots[0].axis('off')\n",
    "\t\tsns.lineplot(history_df, x='Date', y='GPA', ax = ax, color ='#555')\n",
    "\n",
    "\t\tax.set_facecolor('#ECE8DE')\n",
    "\t\tfig.patch.set_facecolor('#ECE8DE')\n",
    "\t\tax.grid(False, axis='y')\n",
    "\t\tax.grid(True, axis='x', color='#DCD8CE')\n",
    "\n",
    "\t\tax.spines['top'].set_visible(False)\n",
    "\t\tax.spines['right'].set_visible(False)\n",
    "\t\tax.spines['left'].set_visible(False)\n",
    "\t\tax.spines['bottom'].set_color('#B7B7B7')\n",
    "\n",
    "\t\tax.spines['bottom'].set(linewidth = 3.5)\n",
    "\n",
    "\t\tfor i in range(1, len(history_df)):\n",
    "\t\t\tcoords = [*history_df.sort_values(by='Date').iloc[i]][::-1]\n",
    "\t\t\ttry:\n",
    "\t\t\t\told_gpa = history_df.sort_values(by='Date')['GPA'].iloc[i - 1]\n",
    "\t\t\texcept:\n",
    "\t\t\t\told_gpa = history_df.sort_values(by='Date')['GPA'].iloc[i]\n",
    "\n",
    "\t\t\tnew_gpa = history_df.sort_values(by='Date')['GPA'].iloc[i]\n",
    "\t\t\tcolor = '#21A300' if new_gpa >= old_gpa else '#A30002' \n",
    "\t\t\tdirection = \"▲\" if new_gpa >= old_gpa else \"▼\"\n",
    "\n",
    "\t\t\tax.scatter(coords[0], coords[1], color = color)\n",
    "\t\t\tax.text(\n",
    "\t\t\t\tcoords[0],\n",
    "\t\t\t\tcoords[1] + (ax.get_ylim()[1] - ax.get_ylim()[0]) * 0.05,\n",
    "\t\t\t\tf'{direction} {new_gpa - old_gpa:.2f}',\n",
    "\t\t\t\tcolor = color\n",
    "\t\t\t)\n",
    "\n",
    "\t\tax.scatter(*[*history_df.sort_values(by='Date').iloc[-1]][::-1], color = color)\n",
    "\n",
    "\t\treturn fig\n",
    "\n",
    "extractor = InsightExtractor(df)\n",
    "def random_dates(start, end, n=10):\n",
    "\n",
    "    start_u = start.value//10**9\n",
    "    end_u = end.value//10**9\n",
    "\n",
    "    return pd.to_datetime(np.random.randint(start_u, end_u, n), unit='s')\n",
    "\n",
    "start = pd.to_datetime('2015-01-01')\n",
    "end = pd.to_datetime('2018-01-01')\n",
    "random = random_dates(start, end)\n",
    "history = pd.DataFrame({\"GPA\": np.random.random(len(random)) * 1 + np.arange(0, len(random) * 0.1, 0.1) + 2, 'Date': random.values})\n",
    "\n",
    "extractor.history(history.tail(5))\n",
    "plt.show()"
   ]
  },
  {
   "cell_type": "code",
   "execution_count": 41,
   "metadata": {},
   "outputs": [
    {
     "data": {
      "image/png": "[encoded data removed]",
      "text/plain": [
       "<Figure size 1000x500 with 2 Axes>"
      ]
     },
     "execution_count": 41,
     "metadata": {},
     "output_type": "execute_result"
    }
   ],
   "source": [
    "sampled = df.sample(1)\n",
    "good_insights, good_fig, improve_insights, improve_fig = extractor.extract(sampled)\n",
    "good_fig"
   ]
  },
  {
   "cell_type": "code",
   "execution_count": 42,
   "metadata": {},
   "outputs": [
    {
     "data": {
      "text/plain": [
       "['weights/extractor.pkl']"
      ]
     },
     "execution_count": 42,
     "metadata": {},
     "output_type": "execute_result"
    }
   ],
   "source": [
    "import joblib\n",
    "joblib.dump(extractor, 'weights/extractor.pkl')"
   ]
  }
 ],
 "metadata": {
  "kernelspec": {
   "display_name": "Python 3.10.6 ('pytorch')",
   "language": "python",
   "name": "python3"
  },
  "language_info": {
   "codemirror_mode": {
    "name": "ipython",
    "version": 3
   },
   "file_extension": ".py",
   "mimetype": "text/x-python",
   "name": "python",
   "nbconvert_exporter": "python",
   "pygments_lexer": "ipython3",
   "version": "3.10.6"
  },
  "orig_nbformat": 4,
  "vscode": {
   "interpreter": {
    "hash": "4d19efe0496419facc97fd7ea20d5d3a0b9c1bdc9473c8f87e1305d92cacb204"
   }
  }
 },
 "nbformat": 4,
 "nbformat_minor": 2
}
